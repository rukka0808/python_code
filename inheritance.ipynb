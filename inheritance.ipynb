{
  "nbformat": 4,
  "nbformat_minor": 0,
  "metadata": {
    "colab": {
      "name": "inheritance.ipynb",
      "provenance": [],
      "authorship_tag": "ABX9TyOQ6PWH5fViDmB7zunPYoiG",
      "include_colab_link": true
    },
    "kernelspec": {
      "name": "python3",
      "display_name": "Python 3"
    },
    "language_info": {
      "name": "python"
    }
  },
  "cells": [
    {
      "cell_type": "markdown",
      "metadata": {
        "id": "view-in-github",
        "colab_type": "text"
      },
      "source": [
        "<a href=\"https://colab.research.google.com/github/rukka0808/python_code/blob/main/inheritance.ipynb\" target=\"_parent\"><img src=\"https://colab.research.google.com/assets/colab-badge.svg\" alt=\"Open In Colab\"/></a>"
      ]
    },
    {
      "cell_type": "code",
      "metadata": {
        "id": "VpqaWEXsCy4v"
      },
      "source": [
        "class Comments:\n",
        "    title               = \"#### %s 승차권 판매기입니다. ####\"\n",
        "    product_description = \"%s:%s(%s원)\"\n",
        "    insert_fare         = \"요금을 넣어 주세요. : \"\n",
        "    insufficient_fare   = \"%s 요금이 부족합니다. 거스름돈은 %s원 입니다.\"\n",
        "    select_station      = \"원하시는 역번호를 선택하세요.\"\n",
        "    select_error        = \"잘못 입력하셨습니다.\"\n",
        "    finish_sale         = \"선택하신 %s 입니다. 거스름돈은 %s원 입니다.n감사합니다.\"\n",
        "    terminate_sale      = \"승차권 판매를 종료합니다.\""
      ],
      "execution_count": null,
      "outputs": []
    },
    {
      "cell_type": "code",
      "metadata": {
        "id": "BS1MMfbTH--v"
      },
      "source": [
        "class Products:\n",
        "  productNames = []\n",
        "  productValues = []"
      ],
      "execution_count": null,
      "outputs": []
    },
    {
      "cell_type": "code",
      "metadata": {
        "id": "aO9goMTvME6W"
      },
      "source": [
        "stationfares = [{\"station\":\"청양리\",\"fare\": 1500},\n",
        "                {\"station\": \"성북\",\"fare\":2000},\n",
        "                {\"station\": \"의정부\",\"fare\":3000}]"
      ],
      "execution_count": null,
      "outputs": []
    },
    {
      "cell_type": "code",
      "metadata": {
        "id": "0IifCMg6INM3"
      },
      "source": [
        "class SubwayTicket(Products):\n",
        "  _data = stationfares\n",
        "  _name = \"지하철\"\n",
        "  _status = True\n",
        "\n",
        "  def __init__ (self):\n",
        "    print(Comments.title %self._name)\n",
        "\n",
        " \n",
        "\n",
        "  def selectStation(self, money):\n",
        "      print(Comments.select_station)\n",
        "      for idx, name in enumerate(Products.productNames):\n",
        "        fare = Products.productValues[idx]\n",
        "        print(Comments.product_description %(str(idx), name, fare))\n",
        "      inputStation = int(input(Comments.select_station))\n",
        "      self.payment(money, inputStation)\n",
        "\n",
        "  def set_products(self):\n",
        "    Products.productNames = []\n",
        "    Products.productValues = []\n",
        "    for stationfare in self._data:\n",
        "      Products.productNames.append(stationfare[\"station\"])\n",
        "      Products.productValues.append(stationfare[\"fare\"])\n",
        "\n",
        "  def run(self):\n",
        "    self.set_products()\n",
        "    while self._status:\n",
        "      try:\n",
        "        inputMoney = int(input(Comments.insert_fare))\n",
        "      except ValueError:\n",
        "        print(Comments.select_error)\n",
        "      else:\n",
        "        self.selectStation(inputMoney)\n",
        "\n",
        "   \n",
        "\n",
        "  def payment(self, money, idx):\n",
        "      name = Products.productNames[idx]\n",
        "      fare = Products.productValues[idx]\n",
        "      if money >=fare:\n",
        "        balance = money - fare\n",
        "        print(Comments.finish_sale %(name, str(balance)))\n",
        "      else:\n",
        "        print(Comments.insufficient_fare %(name, str(money)))\n"
      ],
      "execution_count": null,
      "outputs": []
    },
    {
      "cell_type": "code",
      "metadata": {
        "colab": {
          "base_uri": "https://localhost:8080/"
        },
        "id": "l_KTYsrhWiG6",
        "outputId": "a650472b-c2b4-49cc-aad4-f3d1e3cb7619"
      },
      "source": [
        "tm = SubwayTicket()\n",
        "\n",
        "try:\n",
        "  tm.run()\n",
        "except KeyboardInterrupt:\n",
        "  tm._status = False\n",
        "  print(Comments.terminate_sale)"
      ],
      "execution_count": null,
      "outputs": [
        {
          "output_type": "stream",
          "text": [
            "#### 지하철 승차권 판매기입니다. ####\n",
            "요금을 넣어 주세요. : 500\n",
            "원하시는 역번호를 선택하세요.\n",
            "0:청양리(1500원)\n",
            "1:성북(2000원)\n",
            "2:의정부(3000원)\n",
            "원하시는 역번호를 선택하세요.1\n",
            "성북 요금이 부족합니다. 거스름돈은 500원 입니다.\n",
            "요금을 넣어 주세요. : 2500\n",
            "원하시는 역번호를 선택하세요.\n",
            "0:청양리(1500원)\n",
            "1:성북(2000원)\n",
            "2:의정부(3000원)\n",
            "원하시는 역번호를 선택하세요.1\n",
            "선택하신 성북 입니다. 거스름돈은 500원 입니다.n감사합니다.\n"
          ],
          "name": "stdout"
        }
      ]
    },
    {
      "cell_type": "code",
      "metadata": {
        "id": "npwwLbWdXNwI"
      },
      "source": [
        "railstationfares = [\n",
        "                    {\"station\": \"천안\", \"fare\": 15000},\n",
        "                    {\"station\": \"대전\", \"fare\": 20000},\n",
        "                    {\"station\": \"부산\", \"fare\": 30000}\n",
        "]"
      ],
      "execution_count": null,
      "outputs": []
    },
    {
      "cell_type": "code",
      "metadata": {
        "id": "HgNvDCN1qkBK"
      },
      "source": [
        "class RailTicket(SubwayTicket):\n",
        "  _data = railstationfares\n",
        "  _name = \"고속철도\""
      ],
      "execution_count": null,
      "outputs": []
    },
    {
      "cell_type": "code",
      "metadata": {
        "id": "9g1gOFjAq4Kv"
      },
      "source": [
        "tm = railstationfares()\n",
        "\n",
        "try:\n",
        "  tm.run()\n",
        "except KeyboardInterrupt:\n",
        "  tm._status = False\n",
        "  print(Comments.terminate_sale)"
      ],
      "execution_count": null,
      "outputs": []
    }
  ]
}