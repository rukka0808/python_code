{
  "nbformat": 4,
  "nbformat_minor": 0,
  "metadata": {
    "colab": {
      "name": "Pandas.ipynb",
      "provenance": [],
      "mount_file_id": "1D1VmDFL0iggbxqTlxiaPjoHWvpLIEbao",
      "authorship_tag": "ABX9TyO6f6sXROwvyjQSVIYYBDu8",
      "include_colab_link": true
    },
    "kernelspec": {
      "name": "python3",
      "display_name": "Python 3"
    },
    "language_info": {
      "name": "python"
    }
  },
  "cells": [
    {
      "cell_type": "markdown",
      "metadata": {
        "id": "view-in-github",
        "colab_type": "text"
      },
      "source": [
        "<a href=\"https://colab.research.google.com/github/rukka0808/python_code/blob/main/data%20visualization/Pandas.ipynb\" target=\"_parent\"><img src=\"https://colab.research.google.com/assets/colab-badge.svg\" alt=\"Open In Colab\"/></a>"
      ]
    },
    {
      "cell_type": "markdown",
      "metadata": {
        "id": "pJ6uD4Opv-VM"
      },
      "source": [
        "1. Mount Drive"
      ]
    },
    {
      "cell_type": "code",
      "metadata": {
        "id": "i0XUQp5QwhWa",
        "colab": {
          "base_uri": "https://localhost:8080/"
        },
        "outputId": "a6c44fc3-68f5-47f4-89eb-360929f48d0b"
      },
      "source": [
        "from google.colab import drive\n",
        "drive.mount('/gdrive')"
      ],
      "execution_count": null,
      "outputs": [
        {
          "output_type": "stream",
          "text": [
            "Drive already mounted at /gdrive; to attempt to forcibly remount, call drive.mount(\"/gdrive\", force_remount=True).\n"
          ],
          "name": "stdout"
        }
      ]
    },
    {
      "cell_type": "code",
      "metadata": {
        "id": "Wr3JP3_EwhWk",
        "colab": {
          "base_uri": "https://localhost:8080/"
        },
        "outputId": "8d048a17-0647-4595-dff3-d409402d242f"
      },
      "source": [
        "!ls -al 'drive/My Drive/data'"
      ],
      "execution_count": null,
      "outputs": [
        {
          "output_type": "stream",
          "text": [
            "total 2263604\n",
            "-rw------- 1 root root 757939580 Feb 14 23:37 TCS_11_03_02_339640.csv\n",
            "-rw------- 1 root root 732586920 Mar 14 23:42 TCS_11_03_02_663167.csv\n",
            "-rw------- 1 root root 827403150 Apr 14 23:36 TCS_11_03_02_717062.csv\n"
          ],
          "name": "stdout"
        }
      ]
    },
    {
      "cell_type": "markdown",
      "metadata": {
        "id": "Ly7QF1tuzeCQ"
      },
      "source": [
        "2. Loda data"
      ]
    },
    {
      "cell_type": "code",
      "metadata": {
        "id": "jkq8Guj_zF_P"
      },
      "source": [
        "import pandas as pd"
      ],
      "execution_count": null,
      "outputs": []
    },
    {
      "cell_type": "code",
      "metadata": {
        "id": "0DYSlDQ1zjJh"
      },
      "source": [
        "file = 'drive/My Drive/data/TCS_11_03_02_339640.csv'\n",
        "data = pd.read_csv(file, sep=\",\",encoding=\"euc-kr\")"
      ],
      "execution_count": null,
      "outputs": []
    },
    {
      "cell_type": "code",
      "metadata": {
        "colab": {
          "base_uri": "https://localhost:8080/",
          "height": 359
        },
        "id": "y31NtOFP0BVR",
        "outputId": "492b73fc-4475-42de-d0b6-579bb80e1cce"
      },
      "source": [
        "data.head(10)"
      ],
      "execution_count": null,
      "outputs": [
        {
          "output_type": "execute_result",
          "data": {
            "text/html": [
              "<div>\n",
              "<style scoped>\n",
              "    .dataframe tbody tr th:only-of-type {\n",
              "        vertical-align: middle;\n",
              "    }\n",
              "\n",
              "    .dataframe tbody tr th {\n",
              "        vertical-align: top;\n",
              "    }\n",
              "\n",
              "    .dataframe thead th {\n",
              "        text-align: right;\n",
              "    }\n",
              "</style>\n",
              "<table border=\"1\" class=\"dataframe\">\n",
              "  <thead>\n",
              "    <tr style=\"text-align: right;\">\n",
              "      <th></th>\n",
              "      <th>집계일자</th>\n",
              "      <th>집계시</th>\n",
              "      <th>출발영업소코드</th>\n",
              "      <th>도착영업소코드</th>\n",
              "      <th>TCS차종구분코드</th>\n",
              "      <th>통행시간</th>\n",
              "      <th>Unnamed: 6</th>\n",
              "    </tr>\n",
              "  </thead>\n",
              "  <tbody>\n",
              "    <tr>\n",
              "      <th>0</th>\n",
              "      <td>20210101</td>\n",
              "      <td>18</td>\n",
              "      <td>0</td>\n",
              "      <td>101</td>\n",
              "      <td>1</td>\n",
              "      <td>-1</td>\n",
              "      <td>NaN</td>\n",
              "    </tr>\n",
              "    <tr>\n",
              "      <th>1</th>\n",
              "      <td>20210101</td>\n",
              "      <td>18</td>\n",
              "      <td>0</td>\n",
              "      <td>101</td>\n",
              "      <td>3</td>\n",
              "      <td>-1</td>\n",
              "      <td>NaN</td>\n",
              "    </tr>\n",
              "    <tr>\n",
              "      <th>2</th>\n",
              "      <td>20210101</td>\n",
              "      <td>18</td>\n",
              "      <td>0</td>\n",
              "      <td>101</td>\n",
              "      <td>4</td>\n",
              "      <td>-1</td>\n",
              "      <td>NaN</td>\n",
              "    </tr>\n",
              "    <tr>\n",
              "      <th>3</th>\n",
              "      <td>20210101</td>\n",
              "      <td>9</td>\n",
              "      <td>0</td>\n",
              "      <td>101</td>\n",
              "      <td>3</td>\n",
              "      <td>-1</td>\n",
              "      <td>NaN</td>\n",
              "    </tr>\n",
              "    <tr>\n",
              "      <th>4</th>\n",
              "      <td>20210101</td>\n",
              "      <td>9</td>\n",
              "      <td>0</td>\n",
              "      <td>101</td>\n",
              "      <td>2</td>\n",
              "      <td>-1</td>\n",
              "      <td>NaN</td>\n",
              "    </tr>\n",
              "    <tr>\n",
              "      <th>5</th>\n",
              "      <td>20210101</td>\n",
              "      <td>9</td>\n",
              "      <td>0</td>\n",
              "      <td>101</td>\n",
              "      <td>1</td>\n",
              "      <td>-1</td>\n",
              "      <td>NaN</td>\n",
              "    </tr>\n",
              "    <tr>\n",
              "      <th>6</th>\n",
              "      <td>20210101</td>\n",
              "      <td>9</td>\n",
              "      <td>0</td>\n",
              "      <td>101</td>\n",
              "      <td>4</td>\n",
              "      <td>-1</td>\n",
              "      <td>NaN</td>\n",
              "    </tr>\n",
              "    <tr>\n",
              "      <th>7</th>\n",
              "      <td>20210101</td>\n",
              "      <td>16</td>\n",
              "      <td>0</td>\n",
              "      <td>101</td>\n",
              "      <td>1</td>\n",
              "      <td>-1</td>\n",
              "      <td>NaN</td>\n",
              "    </tr>\n",
              "    <tr>\n",
              "      <th>8</th>\n",
              "      <td>20210101</td>\n",
              "      <td>23</td>\n",
              "      <td>0</td>\n",
              "      <td>101</td>\n",
              "      <td>3</td>\n",
              "      <td>-1</td>\n",
              "      <td>NaN</td>\n",
              "    </tr>\n",
              "    <tr>\n",
              "      <th>9</th>\n",
              "      <td>20210101</td>\n",
              "      <td>6</td>\n",
              "      <td>0</td>\n",
              "      <td>101</td>\n",
              "      <td>3</td>\n",
              "      <td>-1</td>\n",
              "      <td>NaN</td>\n",
              "    </tr>\n",
              "  </tbody>\n",
              "</table>\n",
              "</div>"
            ],
            "text/plain": [
              "       집계일자  집계시  출발영업소코드  도착영업소코드  TCS차종구분코드  통행시간  Unnamed: 6\n",
              "0  20210101   18        0      101          1    -1         NaN\n",
              "1  20210101   18        0      101          3    -1         NaN\n",
              "2  20210101   18        0      101          4    -1         NaN\n",
              "3  20210101    9        0      101          3    -1         NaN\n",
              "4  20210101    9        0      101          2    -1         NaN\n",
              "5  20210101    9        0      101          1    -1         NaN\n",
              "6  20210101    9        0      101          4    -1         NaN\n",
              "7  20210101   16        0      101          1    -1         NaN\n",
              "8  20210101   23        0      101          3    -1         NaN\n",
              "9  20210101    6        0      101          3    -1         NaN"
            ]
          },
          "metadata": {
            "tags": []
          },
          "execution_count": 4
        }
      ]
    },
    {
      "cell_type": "code",
      "metadata": {
        "colab": {
          "base_uri": "https://localhost:8080/"
        },
        "id": "uxPY-HdF0auj",
        "outputId": "f12a3b1e-560f-497e-ad88-9c8f95094776"
      },
      "source": [
        "data.info()"
      ],
      "execution_count": null,
      "outputs": [
        {
          "output_type": "stream",
          "text": [
            "<class 'pandas.core.frame.DataFrame'>\n",
            "RangeIndex: 24767718 entries, 0 to 24767717\n",
            "Data columns (total 7 columns):\n",
            " #   Column      Dtype  \n",
            "---  ------      -----  \n",
            " 0   집계일자        int64  \n",
            " 1   집계시         int64  \n",
            " 2   출발영업소코드     int64  \n",
            " 3   도착영업소코드     int64  \n",
            " 4   TCS차종구분코드   int64  \n",
            " 5   통행시간        int64  \n",
            " 6   Unnamed: 6  float64\n",
            "dtypes: float64(1), int64(6)\n",
            "memory usage: 1.3 GB\n"
          ],
          "name": "stdout"
        }
      ]
    },
    {
      "cell_type": "markdown",
      "metadata": {
        "id": "TXzjaAaR4CnD"
      },
      "source": [
        "3. Clean Data"
      ]
    },
    {
      "cell_type": "code",
      "metadata": {
        "colab": {
          "base_uri": "https://localhost:8080/"
        },
        "id": "_mHbVgyz39f8",
        "outputId": "71c0f247-ed96-4ed2-9f58-7e21ca1a600e"
      },
      "source": [
        "data.isnull().sum(axis=0)"
      ],
      "execution_count": null,
      "outputs": [
        {
          "output_type": "execute_result",
          "data": {
            "text/plain": [
              "집계일자                 0\n",
              "집계시                  0\n",
              "출발영업소코드              0\n",
              "도착영업소코드              0\n",
              "TCS차종구분코드            0\n",
              "통행시간                 0\n",
              "Unnamed: 6    24767718\n",
              "dtype: int64"
            ]
          },
          "metadata": {
            "tags": []
          },
          "execution_count": 6
        }
      ]
    },
    {
      "cell_type": "code",
      "metadata": {
        "colab": {
          "base_uri": "https://localhost:8080/"
        },
        "id": "w6a7CmD04hyO",
        "outputId": "60686873-af00-48ec-d687-f3fb366c121f"
      },
      "source": [
        "data.columns"
      ],
      "execution_count": null,
      "outputs": [
        {
          "output_type": "execute_result",
          "data": {
            "text/plain": [
              "Index(['집계일자', '집계시', '출발영업소코드', '도착영업소코드', 'TCS차종구분코드', '통행시간', 'Unnamed: 6'], dtype='object')"
            ]
          },
          "metadata": {
            "tags": []
          },
          "execution_count": 7
        }
      ]
    },
    {
      "cell_type": "code",
      "metadata": {
        "id": "NEcP3ziv4vKm"
      },
      "source": [
        "data_clean = data.drop(['Unnamed: 6'], axis='columns')"
      ],
      "execution_count": null,
      "outputs": []
    },
    {
      "cell_type": "code",
      "metadata": {
        "colab": {
          "base_uri": "https://localhost:8080/",
          "height": 204
        },
        "id": "BA5q5m0q4_-Z",
        "outputId": "525da3ce-b43d-4068-ca01-541a5f83b28a"
      },
      "source": [
        "data_clean.head()"
      ],
      "execution_count": null,
      "outputs": [
        {
          "output_type": "execute_result",
          "data": {
            "text/html": [
              "<div>\n",
              "<style scoped>\n",
              "    .dataframe tbody tr th:only-of-type {\n",
              "        vertical-align: middle;\n",
              "    }\n",
              "\n",
              "    .dataframe tbody tr th {\n",
              "        vertical-align: top;\n",
              "    }\n",
              "\n",
              "    .dataframe thead th {\n",
              "        text-align: right;\n",
              "    }\n",
              "</style>\n",
              "<table border=\"1\" class=\"dataframe\">\n",
              "  <thead>\n",
              "    <tr style=\"text-align: right;\">\n",
              "      <th></th>\n",
              "      <th>집계일자</th>\n",
              "      <th>집계시</th>\n",
              "      <th>출발영업소코드</th>\n",
              "      <th>도착영업소코드</th>\n",
              "      <th>TCS차종구분코드</th>\n",
              "      <th>통행시간</th>\n",
              "    </tr>\n",
              "  </thead>\n",
              "  <tbody>\n",
              "    <tr>\n",
              "      <th>0</th>\n",
              "      <td>20210101</td>\n",
              "      <td>18</td>\n",
              "      <td>0</td>\n",
              "      <td>101</td>\n",
              "      <td>1</td>\n",
              "      <td>-1</td>\n",
              "    </tr>\n",
              "    <tr>\n",
              "      <th>1</th>\n",
              "      <td>20210101</td>\n",
              "      <td>18</td>\n",
              "      <td>0</td>\n",
              "      <td>101</td>\n",
              "      <td>3</td>\n",
              "      <td>-1</td>\n",
              "    </tr>\n",
              "    <tr>\n",
              "      <th>2</th>\n",
              "      <td>20210101</td>\n",
              "      <td>18</td>\n",
              "      <td>0</td>\n",
              "      <td>101</td>\n",
              "      <td>4</td>\n",
              "      <td>-1</td>\n",
              "    </tr>\n",
              "    <tr>\n",
              "      <th>3</th>\n",
              "      <td>20210101</td>\n",
              "      <td>9</td>\n",
              "      <td>0</td>\n",
              "      <td>101</td>\n",
              "      <td>3</td>\n",
              "      <td>-1</td>\n",
              "    </tr>\n",
              "    <tr>\n",
              "      <th>4</th>\n",
              "      <td>20210101</td>\n",
              "      <td>9</td>\n",
              "      <td>0</td>\n",
              "      <td>101</td>\n",
              "      <td>2</td>\n",
              "      <td>-1</td>\n",
              "    </tr>\n",
              "  </tbody>\n",
              "</table>\n",
              "</div>"
            ],
            "text/plain": [
              "       집계일자  집계시  출발영업소코드  도착영업소코드  TCS차종구분코드  통행시간\n",
              "0  20210101   18        0      101          1    -1\n",
              "1  20210101   18        0      101          3    -1\n",
              "2  20210101   18        0      101          4    -1\n",
              "3  20210101    9        0      101          3    -1\n",
              "4  20210101    9        0      101          2    -1"
            ]
          },
          "metadata": {
            "tags": []
          },
          "execution_count": 9
        }
      ]
    },
    {
      "cell_type": "code",
      "metadata": {
        "colab": {
          "base_uri": "https://localhost:8080/"
        },
        "id": "oYWdsviB5Itc",
        "outputId": "9cb2bfed-4f74-4073-86a8-f469c56d8821"
      },
      "source": [
        "data_clean['통행시간'].unique()"
      ],
      "execution_count": null,
      "outputs": [
        {
          "output_type": "execute_result",
          "data": {
            "text/plain": [
              "array([   -1,   617,   601, ..., 55599, 39260, 60302])"
            ]
          },
          "metadata": {
            "tags": []
          },
          "execution_count": 10
        }
      ]
    },
    {
      "cell_type": "code",
      "metadata": {
        "id": "YRK-5PSU5bFV"
      },
      "source": [
        "data_clean = data_clean[data_clean['통행시간']>0]"
      ],
      "execution_count": null,
      "outputs": []
    },
    {
      "cell_type": "code",
      "metadata": {
        "colab": {
          "base_uri": "https://localhost:8080/"
        },
        "id": "jEEkS4or675U",
        "outputId": "4bdf32a3-5e90-41cf-ddb3-db5defe94057"
      },
      "source": [
        "data_clean.info()"
      ],
      "execution_count": null,
      "outputs": [
        {
          "output_type": "stream",
          "text": [
            "<class 'pandas.core.frame.DataFrame'>\n",
            "Int64Index: 20817148 entries, 7684 to 24767717\n",
            "Data columns (total 6 columns):\n",
            " #   Column     Dtype\n",
            "---  ------     -----\n",
            " 0   집계일자       int64\n",
            " 1   집계시        int64\n",
            " 2   출발영업소코드    int64\n",
            " 3   도착영업소코드    int64\n",
            " 4   TCS차종구분코드  int64\n",
            " 5   통행시간       int64\n",
            "dtypes: int64(6)\n",
            "memory usage: 1.1 GB\n"
          ],
          "name": "stdout"
        }
      ]
    },
    {
      "cell_type": "markdown",
      "metadata": {
        "id": "1st7asL7A9m-"
      },
      "source": [
        "4. Select Data"
      ]
    },
    {
      "cell_type": "code",
      "metadata": {
        "id": "rJD11iFl6-tn"
      },
      "source": [
        "df_data = pd.DataFrame(data_clean, columns=['집계일자',\t'집계시',\t'출발영업소코드',\t'도착영업소코드',\t'통행시간'])"
      ],
      "execution_count": null,
      "outputs": []
    },
    {
      "cell_type": "code",
      "metadata": {
        "colab": {
          "base_uri": "https://localhost:8080/",
          "height": 204
        },
        "id": "dm5m2HhOBULU",
        "outputId": "ef15cc83-f929-43da-ecc6-3083fcd14306"
      },
      "source": [
        "df_data.head()"
      ],
      "execution_count": null,
      "outputs": [
        {
          "output_type": "execute_result",
          "data": {
            "text/html": [
              "<div>\n",
              "<style scoped>\n",
              "    .dataframe tbody tr th:only-of-type {\n",
              "        vertical-align: middle;\n",
              "    }\n",
              "\n",
              "    .dataframe tbody tr th {\n",
              "        vertical-align: top;\n",
              "    }\n",
              "\n",
              "    .dataframe thead th {\n",
              "        text-align: right;\n",
              "    }\n",
              "</style>\n",
              "<table border=\"1\" class=\"dataframe\">\n",
              "  <thead>\n",
              "    <tr style=\"text-align: right;\">\n",
              "      <th></th>\n",
              "      <th>집계일자</th>\n",
              "      <th>집계시</th>\n",
              "      <th>출발영업소코드</th>\n",
              "      <th>도착영업소코드</th>\n",
              "      <th>통행시간</th>\n",
              "    </tr>\n",
              "  </thead>\n",
              "  <tbody>\n",
              "    <tr>\n",
              "      <th>7684</th>\n",
              "      <td>20210101</td>\n",
              "      <td>21</td>\n",
              "      <td>101</td>\n",
              "      <td>102</td>\n",
              "      <td>617</td>\n",
              "    </tr>\n",
              "    <tr>\n",
              "      <th>7686</th>\n",
              "      <td>20210101</td>\n",
              "      <td>21</td>\n",
              "      <td>101</td>\n",
              "      <td>102</td>\n",
              "      <td>601</td>\n",
              "    </tr>\n",
              "    <tr>\n",
              "      <th>7687</th>\n",
              "      <td>20210101</td>\n",
              "      <td>21</td>\n",
              "      <td>101</td>\n",
              "      <td>102</td>\n",
              "      <td>644</td>\n",
              "    </tr>\n",
              "    <tr>\n",
              "      <th>7688</th>\n",
              "      <td>20210101</td>\n",
              "      <td>21</td>\n",
              "      <td>101</td>\n",
              "      <td>102</td>\n",
              "      <td>600</td>\n",
              "    </tr>\n",
              "    <tr>\n",
              "      <th>7689</th>\n",
              "      <td>20210101</td>\n",
              "      <td>17</td>\n",
              "      <td>101</td>\n",
              "      <td>102</td>\n",
              "      <td>612</td>\n",
              "    </tr>\n",
              "  </tbody>\n",
              "</table>\n",
              "</div>"
            ],
            "text/plain": [
              "          집계일자  집계시  출발영업소코드  도착영업소코드  통행시간\n",
              "7684  20210101   21      101      102   617\n",
              "7686  20210101   21      101      102   601\n",
              "7687  20210101   21      101      102   644\n",
              "7688  20210101   21      101      102   600\n",
              "7689  20210101   17      101      102   612"
            ]
          },
          "metadata": {
            "tags": []
          },
          "execution_count": 14
        }
      ]
    },
    {
      "cell_type": "code",
      "metadata": {
        "id": "xzjr4n_cBWlY"
      },
      "source": [
        "long_distance = df_data.통행시간 > 700"
      ],
      "execution_count": null,
      "outputs": []
    },
    {
      "cell_type": "code",
      "metadata": {
        "colab": {
          "base_uri": "https://localhost:8080/"
        },
        "id": "r3_S6JVeBoUQ",
        "outputId": "9b29602e-5194-4d89-e2ba-5bc8d4adf6d9"
      },
      "source": [
        "long_distance"
      ],
      "execution_count": null,
      "outputs": [
        {
          "output_type": "execute_result",
          "data": {
            "text/plain": [
              "7684        False\n",
              "7686        False\n",
              "7687        False\n",
              "7688        False\n",
              "7689        False\n",
              "            ...  \n",
              "24767713     True\n",
              "24767714     True\n",
              "24767715     True\n",
              "24767716     True\n",
              "24767717     True\n",
              "Name: 통행시간, Length: 20817148, dtype: bool"
            ]
          },
          "metadata": {
            "tags": []
          },
          "execution_count": 16
        }
      ]
    },
    {
      "cell_type": "code",
      "metadata": {
        "id": "QGVQXX3CBumr"
      },
      "source": [
        "start_from_101 = df_data[df_data.출발영업소코드 == 101]"
      ],
      "execution_count": null,
      "outputs": []
    },
    {
      "cell_type": "code",
      "metadata": {
        "colab": {
          "base_uri": "https://localhost:8080/",
          "height": 419
        },
        "id": "dnxoCzwZBzPR",
        "outputId": "ece39e3a-df3a-48b3-927d-7089a3bcf4d7"
      },
      "source": [
        "start_from_101"
      ],
      "execution_count": null,
      "outputs": [
        {
          "output_type": "execute_result",
          "data": {
            "text/html": [
              "<div>\n",
              "<style scoped>\n",
              "    .dataframe tbody tr th:only-of-type {\n",
              "        vertical-align: middle;\n",
              "    }\n",
              "\n",
              "    .dataframe tbody tr th {\n",
              "        vertical-align: top;\n",
              "    }\n",
              "\n",
              "    .dataframe thead th {\n",
              "        text-align: right;\n",
              "    }\n",
              "</style>\n",
              "<table border=\"1\" class=\"dataframe\">\n",
              "  <thead>\n",
              "    <tr style=\"text-align: right;\">\n",
              "      <th></th>\n",
              "      <th>집계일자</th>\n",
              "      <th>집계시</th>\n",
              "      <th>출발영업소코드</th>\n",
              "      <th>도착영업소코드</th>\n",
              "      <th>통행시간</th>\n",
              "    </tr>\n",
              "  </thead>\n",
              "  <tbody>\n",
              "    <tr>\n",
              "      <th>7684</th>\n",
              "      <td>20210101</td>\n",
              "      <td>21</td>\n",
              "      <td>101</td>\n",
              "      <td>102</td>\n",
              "      <td>617</td>\n",
              "    </tr>\n",
              "    <tr>\n",
              "      <th>7686</th>\n",
              "      <td>20210101</td>\n",
              "      <td>21</td>\n",
              "      <td>101</td>\n",
              "      <td>102</td>\n",
              "      <td>601</td>\n",
              "    </tr>\n",
              "    <tr>\n",
              "      <th>7687</th>\n",
              "      <td>20210101</td>\n",
              "      <td>21</td>\n",
              "      <td>101</td>\n",
              "      <td>102</td>\n",
              "      <td>644</td>\n",
              "    </tr>\n",
              "    <tr>\n",
              "      <th>7688</th>\n",
              "      <td>20210101</td>\n",
              "      <td>21</td>\n",
              "      <td>101</td>\n",
              "      <td>102</td>\n",
              "      <td>600</td>\n",
              "    </tr>\n",
              "    <tr>\n",
              "      <th>7689</th>\n",
              "      <td>20210101</td>\n",
              "      <td>17</td>\n",
              "      <td>101</td>\n",
              "      <td>102</td>\n",
              "      <td>612</td>\n",
              "    </tr>\n",
              "    <tr>\n",
              "      <th>...</th>\n",
              "      <td>...</td>\n",
              "      <td>...</td>\n",
              "      <td>...</td>\n",
              "      <td>...</td>\n",
              "      <td>...</td>\n",
              "    </tr>\n",
              "    <tr>\n",
              "      <th>24767215</th>\n",
              "      <td>20210131</td>\n",
              "      <td>18</td>\n",
              "      <td>101</td>\n",
              "      <td>620</td>\n",
              "      <td>12498</td>\n",
              "    </tr>\n",
              "    <tr>\n",
              "      <th>24767219</th>\n",
              "      <td>20210131</td>\n",
              "      <td>8</td>\n",
              "      <td>101</td>\n",
              "      <td>556</td>\n",
              "      <td>13091</td>\n",
              "    </tr>\n",
              "    <tr>\n",
              "      <th>24767332</th>\n",
              "      <td>20210131</td>\n",
              "      <td>16</td>\n",
              "      <td>101</td>\n",
              "      <td>741</td>\n",
              "      <td>1847</td>\n",
              "    </tr>\n",
              "    <tr>\n",
              "      <th>24767427</th>\n",
              "      <td>20210131</td>\n",
              "      <td>21</td>\n",
              "      <td>101</td>\n",
              "      <td>224</td>\n",
              "      <td>10449</td>\n",
              "    </tr>\n",
              "    <tr>\n",
              "      <th>24767586</th>\n",
              "      <td>20210131</td>\n",
              "      <td>16</td>\n",
              "      <td>101</td>\n",
              "      <td>107</td>\n",
              "      <td>2009</td>\n",
              "    </tr>\n",
              "  </tbody>\n",
              "</table>\n",
              "<p>254619 rows × 5 columns</p>\n",
              "</div>"
            ],
            "text/plain": [
              "              집계일자  집계시  출발영업소코드  도착영업소코드   통행시간\n",
              "7684      20210101   21      101      102    617\n",
              "7686      20210101   21      101      102    601\n",
              "7687      20210101   21      101      102    644\n",
              "7688      20210101   21      101      102    600\n",
              "7689      20210101   17      101      102    612\n",
              "...            ...  ...      ...      ...    ...\n",
              "24767215  20210131   18      101      620  12498\n",
              "24767219  20210131    8      101      556  13091\n",
              "24767332  20210131   16      101      741   1847\n",
              "24767427  20210131   21      101      224  10449\n",
              "24767586  20210131   16      101      107   2009\n",
              "\n",
              "[254619 rows x 5 columns]"
            ]
          },
          "metadata": {
            "tags": []
          },
          "execution_count": 18
        }
      ]
    },
    {
      "cell_type": "code",
      "metadata": {
        "id": "YnDsQDKvB9sU"
      },
      "source": [
        "from_101_to = start_from_101[start_from_101['도착영업소코드'].isin([105,110,115,120,125,130,135,140])]"
      ],
      "execution_count": null,
      "outputs": []
    },
    {
      "cell_type": "code",
      "metadata": {
        "colab": {
          "base_uri": "https://localhost:8080/",
          "height": 419
        },
        "id": "15OPakAiC5z-",
        "outputId": "9723af2a-9a24-4025-ecac-0a321ac9b8e5"
      },
      "source": [
        "from_101_to"
      ],
      "execution_count": null,
      "outputs": [
        {
          "output_type": "execute_result",
          "data": {
            "text/html": [
              "<div>\n",
              "<style scoped>\n",
              "    .dataframe tbody tr th:only-of-type {\n",
              "        vertical-align: middle;\n",
              "    }\n",
              "\n",
              "    .dataframe tbody tr th {\n",
              "        vertical-align: top;\n",
              "    }\n",
              "\n",
              "    .dataframe thead th {\n",
              "        text-align: right;\n",
              "    }\n",
              "</style>\n",
              "<table border=\"1\" class=\"dataframe\">\n",
              "  <thead>\n",
              "    <tr style=\"text-align: right;\">\n",
              "      <th></th>\n",
              "      <th>집계일자</th>\n",
              "      <th>집계시</th>\n",
              "      <th>출발영업소코드</th>\n",
              "      <th>도착영업소코드</th>\n",
              "      <th>통행시간</th>\n",
              "    </tr>\n",
              "  </thead>\n",
              "  <tbody>\n",
              "    <tr>\n",
              "      <th>7927</th>\n",
              "      <td>20210101</td>\n",
              "      <td>13</td>\n",
              "      <td>101</td>\n",
              "      <td>105</td>\n",
              "      <td>764</td>\n",
              "    </tr>\n",
              "    <tr>\n",
              "      <th>7928</th>\n",
              "      <td>20210101</td>\n",
              "      <td>13</td>\n",
              "      <td>101</td>\n",
              "      <td>105</td>\n",
              "      <td>782</td>\n",
              "    </tr>\n",
              "    <tr>\n",
              "      <th>7929</th>\n",
              "      <td>20210101</td>\n",
              "      <td>13</td>\n",
              "      <td>101</td>\n",
              "      <td>105</td>\n",
              "      <td>749</td>\n",
              "    </tr>\n",
              "    <tr>\n",
              "      <th>7930</th>\n",
              "      <td>20210101</td>\n",
              "      <td>13</td>\n",
              "      <td>101</td>\n",
              "      <td>105</td>\n",
              "      <td>848</td>\n",
              "    </tr>\n",
              "    <tr>\n",
              "      <th>7932</th>\n",
              "      <td>20210101</td>\n",
              "      <td>13</td>\n",
              "      <td>101</td>\n",
              "      <td>105</td>\n",
              "      <td>813</td>\n",
              "    </tr>\n",
              "    <tr>\n",
              "      <th>...</th>\n",
              "      <td>...</td>\n",
              "      <td>...</td>\n",
              "      <td>...</td>\n",
              "      <td>...</td>\n",
              "      <td>...</td>\n",
              "    </tr>\n",
              "    <tr>\n",
              "      <th>24759689</th>\n",
              "      <td>20210131</td>\n",
              "      <td>1</td>\n",
              "      <td>101</td>\n",
              "      <td>105</td>\n",
              "      <td>721</td>\n",
              "    </tr>\n",
              "    <tr>\n",
              "      <th>24761069</th>\n",
              "      <td>20210131</td>\n",
              "      <td>7</td>\n",
              "      <td>101</td>\n",
              "      <td>105</td>\n",
              "      <td>833</td>\n",
              "    </tr>\n",
              "    <tr>\n",
              "      <th>24761618</th>\n",
              "      <td>20210131</td>\n",
              "      <td>16</td>\n",
              "      <td>101</td>\n",
              "      <td>110</td>\n",
              "      <td>3482</td>\n",
              "    </tr>\n",
              "    <tr>\n",
              "      <th>24762451</th>\n",
              "      <td>20210131</td>\n",
              "      <td>17</td>\n",
              "      <td>101</td>\n",
              "      <td>105</td>\n",
              "      <td>856</td>\n",
              "    </tr>\n",
              "    <tr>\n",
              "      <th>24765839</th>\n",
              "      <td>20210131</td>\n",
              "      <td>6</td>\n",
              "      <td>101</td>\n",
              "      <td>105</td>\n",
              "      <td>839</td>\n",
              "    </tr>\n",
              "  </tbody>\n",
              "</table>\n",
              "<p>12725 rows × 5 columns</p>\n",
              "</div>"
            ],
            "text/plain": [
              "              집계일자  집계시  출발영업소코드  도착영업소코드  통행시간\n",
              "7927      20210101   13      101      105   764\n",
              "7928      20210101   13      101      105   782\n",
              "7929      20210101   13      101      105   749\n",
              "7930      20210101   13      101      105   848\n",
              "7932      20210101   13      101      105   813\n",
              "...            ...  ...      ...      ...   ...\n",
              "24759689  20210131    1      101      105   721\n",
              "24761069  20210131    7      101      105   833\n",
              "24761618  20210131   16      101      110  3482\n",
              "24762451  20210131   17      101      105   856\n",
              "24765839  20210131    6      101      105   839\n",
              "\n",
              "[12725 rows x 5 columns]"
            ]
          },
          "metadata": {
            "tags": []
          },
          "execution_count": 20
        }
      ]
    },
    {
      "cell_type": "code",
      "metadata": {
        "colab": {
          "base_uri": "https://localhost:8080/"
        },
        "id": "p4yqRtFnDA9F",
        "outputId": "9eea7265-fce4-4b43-c92e-b62bae9533a2"
      },
      "source": [
        "from_101_to.value_counts()"
      ],
      "execution_count": null,
      "outputs": [
        {
          "output_type": "execute_result",
          "data": {
            "text/plain": [
              "집계일자      집계시  출발영업소코드  도착영업소코드  통행시간 \n",
              "20210131  12   101      105      755      2\n",
              "20210115  17   101      110      3908     2\n",
              "20210104  3    101      105      632      2\n",
              "20210101  21   101      105      756      2\n",
              "20210121  11   101      105      1048     2\n",
              "                                         ..\n",
              "          21   101      105      988      1\n",
              "                                 877      1\n",
              "          20   101      140      16180    1\n",
              "                        135      13135    1\n",
              "20210101  0    101      105      650      1\n",
              "Length: 12700, dtype: int64"
            ]
          },
          "metadata": {
            "tags": []
          },
          "execution_count": 21
        }
      ]
    },
    {
      "cell_type": "markdown",
      "metadata": {
        "id": "nRP6PL36-2Kx"
      },
      "source": [
        "5. Insert Data"
      ]
    },
    {
      "cell_type": "code",
      "metadata": {
        "id": "qRGfeYIpDR3O"
      },
      "source": [
        "from_101_to = from_101_to.assign(요일 = pd.to_datetime(from_101_to['집계일자'], format='%Y%m%d').dt.dayofweek)"
      ],
      "execution_count": null,
      "outputs": []
    },
    {
      "cell_type": "code",
      "metadata": {
        "colab": {
          "base_uri": "https://localhost:8080/",
          "height": 204
        },
        "id": "Z-_6KWkH-svc",
        "outputId": "a343b436-1b68-49c5-da95-7c6ef30277c8"
      },
      "source": [
        "from_101_to.head()"
      ],
      "execution_count": null,
      "outputs": [
        {
          "output_type": "execute_result",
          "data": {
            "text/html": [
              "<div>\n",
              "<style scoped>\n",
              "    .dataframe tbody tr th:only-of-type {\n",
              "        vertical-align: middle;\n",
              "    }\n",
              "\n",
              "    .dataframe tbody tr th {\n",
              "        vertical-align: top;\n",
              "    }\n",
              "\n",
              "    .dataframe thead th {\n",
              "        text-align: right;\n",
              "    }\n",
              "</style>\n",
              "<table border=\"1\" class=\"dataframe\">\n",
              "  <thead>\n",
              "    <tr style=\"text-align: right;\">\n",
              "      <th></th>\n",
              "      <th>집계일자</th>\n",
              "      <th>집계시</th>\n",
              "      <th>출발영업소코드</th>\n",
              "      <th>도착영업소코드</th>\n",
              "      <th>통행시간</th>\n",
              "      <th>요일</th>\n",
              "    </tr>\n",
              "  </thead>\n",
              "  <tbody>\n",
              "    <tr>\n",
              "      <th>7927</th>\n",
              "      <td>20210101</td>\n",
              "      <td>13</td>\n",
              "      <td>101</td>\n",
              "      <td>105</td>\n",
              "      <td>764</td>\n",
              "      <td>4</td>\n",
              "    </tr>\n",
              "    <tr>\n",
              "      <th>7928</th>\n",
              "      <td>20210101</td>\n",
              "      <td>13</td>\n",
              "      <td>101</td>\n",
              "      <td>105</td>\n",
              "      <td>782</td>\n",
              "      <td>4</td>\n",
              "    </tr>\n",
              "    <tr>\n",
              "      <th>7929</th>\n",
              "      <td>20210101</td>\n",
              "      <td>13</td>\n",
              "      <td>101</td>\n",
              "      <td>105</td>\n",
              "      <td>749</td>\n",
              "      <td>4</td>\n",
              "    </tr>\n",
              "    <tr>\n",
              "      <th>7930</th>\n",
              "      <td>20210101</td>\n",
              "      <td>13</td>\n",
              "      <td>101</td>\n",
              "      <td>105</td>\n",
              "      <td>848</td>\n",
              "      <td>4</td>\n",
              "    </tr>\n",
              "    <tr>\n",
              "      <th>7932</th>\n",
              "      <td>20210101</td>\n",
              "      <td>13</td>\n",
              "      <td>101</td>\n",
              "      <td>105</td>\n",
              "      <td>813</td>\n",
              "      <td>4</td>\n",
              "    </tr>\n",
              "  </tbody>\n",
              "</table>\n",
              "</div>"
            ],
            "text/plain": [
              "          집계일자  집계시  출발영업소코드  도착영업소코드  통행시간  요일\n",
              "7927  20210101   13      101      105   764   4\n",
              "7928  20210101   13      101      105   782   4\n",
              "7929  20210101   13      101      105   749   4\n",
              "7930  20210101   13      101      105   848   4\n",
              "7932  20210101   13      101      105   813   4"
            ]
          },
          "metadata": {
            "tags": []
          },
          "execution_count": 24
        }
      ]
    },
    {
      "cell_type": "markdown",
      "metadata": {
        "id": "-4yIz0SUEXnU"
      },
      "source": [
        "Sort & Group data"
      ]
    },
    {
      "cell_type": "code",
      "metadata": {
        "colab": {
          "base_uri": "https://localhost:8080/",
          "height": 419
        },
        "id": "tKUOWYMA-s0g",
        "outputId": "a4a35d52-722b-4286-b835-b3124414e0cd"
      },
      "source": [
        "from_101_to.sort_values(by = ['통행시간'])"
      ],
      "execution_count": null,
      "outputs": [
        {
          "output_type": "execute_result",
          "data": {
            "text/html": [
              "<div>\n",
              "<style scoped>\n",
              "    .dataframe tbody tr th:only-of-type {\n",
              "        vertical-align: middle;\n",
              "    }\n",
              "\n",
              "    .dataframe tbody tr th {\n",
              "        vertical-align: top;\n",
              "    }\n",
              "\n",
              "    .dataframe thead th {\n",
              "        text-align: right;\n",
              "    }\n",
              "</style>\n",
              "<table border=\"1\" class=\"dataframe\">\n",
              "  <thead>\n",
              "    <tr style=\"text-align: right;\">\n",
              "      <th></th>\n",
              "      <th>집계일자</th>\n",
              "      <th>집계시</th>\n",
              "      <th>출발영업소코드</th>\n",
              "      <th>도착영업소코드</th>\n",
              "      <th>통행시간</th>\n",
              "      <th>요일</th>\n",
              "    </tr>\n",
              "  </thead>\n",
              "  <tbody>\n",
              "    <tr>\n",
              "      <th>1068667</th>\n",
              "      <td>20210103</td>\n",
              "      <td>0</td>\n",
              "      <td>101</td>\n",
              "      <td>105</td>\n",
              "      <td>520</td>\n",
              "      <td>6</td>\n",
              "    </tr>\n",
              "    <tr>\n",
              "      <th>1069636</th>\n",
              "      <td>20210103</td>\n",
              "      <td>1</td>\n",
              "      <td>101</td>\n",
              "      <td>105</td>\n",
              "      <td>534</td>\n",
              "      <td>6</td>\n",
              "    </tr>\n",
              "    <tr>\n",
              "      <th>1064817</th>\n",
              "      <td>20210103</td>\n",
              "      <td>2</td>\n",
              "      <td>101</td>\n",
              "      <td>105</td>\n",
              "      <td>560</td>\n",
              "      <td>6</td>\n",
              "    </tr>\n",
              "    <tr>\n",
              "      <th>18267985</th>\n",
              "      <td>20210125</td>\n",
              "      <td>3</td>\n",
              "      <td>101</td>\n",
              "      <td>105</td>\n",
              "      <td>581</td>\n",
              "      <td>0</td>\n",
              "    </tr>\n",
              "    <tr>\n",
              "      <th>23355649</th>\n",
              "      <td>20210131</td>\n",
              "      <td>5</td>\n",
              "      <td>101</td>\n",
              "      <td>105</td>\n",
              "      <td>589</td>\n",
              "      <td>6</td>\n",
              "    </tr>\n",
              "    <tr>\n",
              "      <th>...</th>\n",
              "      <td>...</td>\n",
              "      <td>...</td>\n",
              "      <td>...</td>\n",
              "      <td>...</td>\n",
              "      <td>...</td>\n",
              "      <td>...</td>\n",
              "    </tr>\n",
              "    <tr>\n",
              "      <th>7597495</th>\n",
              "      <td>20210112</td>\n",
              "      <td>1</td>\n",
              "      <td>101</td>\n",
              "      <td>135</td>\n",
              "      <td>24251</td>\n",
              "      <td>1</td>\n",
              "    </tr>\n",
              "    <tr>\n",
              "      <th>21730969</th>\n",
              "      <td>20210129</td>\n",
              "      <td>22</td>\n",
              "      <td>101</td>\n",
              "      <td>135</td>\n",
              "      <td>24607</td>\n",
              "      <td>4</td>\n",
              "    </tr>\n",
              "    <tr>\n",
              "      <th>13314512</th>\n",
              "      <td>20210119</td>\n",
              "      <td>9</td>\n",
              "      <td>101</td>\n",
              "      <td>135</td>\n",
              "      <td>24847</td>\n",
              "      <td>1</td>\n",
              "    </tr>\n",
              "    <tr>\n",
              "      <th>7597582</th>\n",
              "      <td>20210112</td>\n",
              "      <td>5</td>\n",
              "      <td>101</td>\n",
              "      <td>140</td>\n",
              "      <td>26239</td>\n",
              "      <td>1</td>\n",
              "    </tr>\n",
              "    <tr>\n",
              "      <th>13314505</th>\n",
              "      <td>20210119</td>\n",
              "      <td>8</td>\n",
              "      <td>101</td>\n",
              "      <td>135</td>\n",
              "      <td>30143</td>\n",
              "      <td>1</td>\n",
              "    </tr>\n",
              "  </tbody>\n",
              "</table>\n",
              "<p>12725 rows × 6 columns</p>\n",
              "</div>"
            ],
            "text/plain": [
              "              집계일자  집계시  출발영업소코드  도착영업소코드   통행시간  요일\n",
              "1068667   20210103    0      101      105    520   6\n",
              "1069636   20210103    1      101      105    534   6\n",
              "1064817   20210103    2      101      105    560   6\n",
              "18267985  20210125    3      101      105    581   0\n",
              "23355649  20210131    5      101      105    589   6\n",
              "...            ...  ...      ...      ...    ...  ..\n",
              "7597495   20210112    1      101      135  24251   1\n",
              "21730969  20210129   22      101      135  24607   4\n",
              "13314512  20210119    9      101      135  24847   1\n",
              "7597582   20210112    5      101      140  26239   1\n",
              "13314505  20210119    8      101      135  30143   1\n",
              "\n",
              "[12725 rows x 6 columns]"
            ]
          },
          "metadata": {
            "tags": []
          },
          "execution_count": 25
        }
      ]
    },
    {
      "cell_type": "code",
      "metadata": {
        "colab": {
          "base_uri": "https://localhost:8080/",
          "height": 419
        },
        "id": "Z_e48iH8-s4A",
        "outputId": "b47a0f5d-20d7-41f6-e199-119175e2be15"
      },
      "source": [
        "from_101_to.sort_values(by = ['집계일자','집계시'], ascending=False)"
      ],
      "execution_count": null,
      "outputs": [
        {
          "output_type": "execute_result",
          "data": {
            "text/html": [
              "<div>\n",
              "<style scoped>\n",
              "    .dataframe tbody tr th:only-of-type {\n",
              "        vertical-align: middle;\n",
              "    }\n",
              "\n",
              "    .dataframe tbody tr th {\n",
              "        vertical-align: top;\n",
              "    }\n",
              "\n",
              "    .dataframe thead th {\n",
              "        text-align: right;\n",
              "    }\n",
              "</style>\n",
              "<table border=\"1\" class=\"dataframe\">\n",
              "  <thead>\n",
              "    <tr style=\"text-align: right;\">\n",
              "      <th></th>\n",
              "      <th>집계일자</th>\n",
              "      <th>집계시</th>\n",
              "      <th>출발영업소코드</th>\n",
              "      <th>도착영업소코드</th>\n",
              "      <th>통행시간</th>\n",
              "      <th>요일</th>\n",
              "    </tr>\n",
              "  </thead>\n",
              "  <tbody>\n",
              "    <tr>\n",
              "      <th>23346952</th>\n",
              "      <td>20210131</td>\n",
              "      <td>23</td>\n",
              "      <td>101</td>\n",
              "      <td>105</td>\n",
              "      <td>754</td>\n",
              "      <td>6</td>\n",
              "    </tr>\n",
              "    <tr>\n",
              "      <th>23346964</th>\n",
              "      <td>20210131</td>\n",
              "      <td>23</td>\n",
              "      <td>101</td>\n",
              "      <td>105</td>\n",
              "      <td>811</td>\n",
              "      <td>6</td>\n",
              "    </tr>\n",
              "    <tr>\n",
              "      <th>23347119</th>\n",
              "      <td>20210131</td>\n",
              "      <td>23</td>\n",
              "      <td>101</td>\n",
              "      <td>105</td>\n",
              "      <td>865</td>\n",
              "      <td>6</td>\n",
              "    </tr>\n",
              "    <tr>\n",
              "      <th>23348144</th>\n",
              "      <td>20210131</td>\n",
              "      <td>23</td>\n",
              "      <td>101</td>\n",
              "      <td>105</td>\n",
              "      <td>763</td>\n",
              "      <td>6</td>\n",
              "    </tr>\n",
              "    <tr>\n",
              "      <th>23348179</th>\n",
              "      <td>20210131</td>\n",
              "      <td>23</td>\n",
              "      <td>101</td>\n",
              "      <td>105</td>\n",
              "      <td>802</td>\n",
              "      <td>6</td>\n",
              "    </tr>\n",
              "    <tr>\n",
              "      <th>...</th>\n",
              "      <td>...</td>\n",
              "      <td>...</td>\n",
              "      <td>...</td>\n",
              "      <td>...</td>\n",
              "      <td>...</td>\n",
              "      <td>...</td>\n",
              "    </tr>\n",
              "    <tr>\n",
              "      <th>8901</th>\n",
              "      <td>20210101</td>\n",
              "      <td>0</td>\n",
              "      <td>101</td>\n",
              "      <td>125</td>\n",
              "      <td>9393</td>\n",
              "      <td>4</td>\n",
              "    </tr>\n",
              "    <tr>\n",
              "      <th>9047</th>\n",
              "      <td>20210101</td>\n",
              "      <td>0</td>\n",
              "      <td>101</td>\n",
              "      <td>130</td>\n",
              "      <td>9081</td>\n",
              "      <td>4</td>\n",
              "    </tr>\n",
              "    <tr>\n",
              "      <th>9109</th>\n",
              "      <td>20210101</td>\n",
              "      <td>0</td>\n",
              "      <td>101</td>\n",
              "      <td>135</td>\n",
              "      <td>13320</td>\n",
              "      <td>4</td>\n",
              "    </tr>\n",
              "    <tr>\n",
              "      <th>9110</th>\n",
              "      <td>20210101</td>\n",
              "      <td>0</td>\n",
              "      <td>101</td>\n",
              "      <td>135</td>\n",
              "      <td>11168</td>\n",
              "      <td>4</td>\n",
              "    </tr>\n",
              "    <tr>\n",
              "      <th>9159</th>\n",
              "      <td>20210101</td>\n",
              "      <td>0</td>\n",
              "      <td>101</td>\n",
              "      <td>140</td>\n",
              "      <td>13556</td>\n",
              "      <td>4</td>\n",
              "    </tr>\n",
              "  </tbody>\n",
              "</table>\n",
              "<p>12725 rows × 6 columns</p>\n",
              "</div>"
            ],
            "text/plain": [
              "              집계일자  집계시  출발영업소코드  도착영업소코드   통행시간  요일\n",
              "23346952  20210131   23      101      105    754   6\n",
              "23346964  20210131   23      101      105    811   6\n",
              "23347119  20210131   23      101      105    865   6\n",
              "23348144  20210131   23      101      105    763   6\n",
              "23348179  20210131   23      101      105    802   6\n",
              "...            ...  ...      ...      ...    ...  ..\n",
              "8901      20210101    0      101      125   9393   4\n",
              "9047      20210101    0      101      130   9081   4\n",
              "9109      20210101    0      101      135  13320   4\n",
              "9110      20210101    0      101      135  11168   4\n",
              "9159      20210101    0      101      140  13556   4\n",
              "\n",
              "[12725 rows x 6 columns]"
            ]
          },
          "metadata": {
            "tags": []
          },
          "execution_count": 28
        }
      ]
    },
    {
      "cell_type": "code",
      "metadata": {
        "colab": {
          "base_uri": "https://localhost:8080/"
        },
        "id": "rS9r5yYG-s7I",
        "outputId": "adcf1ef1-d385-406f-bf66-a0f8738057ed"
      },
      "source": [
        "from_101_to['통행시간'].groupby(from_101_to['도착영업소코드']).mean()\n"
      ],
      "execution_count": null,
      "outputs": [
        {
          "output_type": "execute_result",
          "data": {
            "text/plain": [
              "도착영업소코드\n",
              "105      912.917020\n",
              "110     3694.332291\n",
              "115     5571.131349\n",
              "120     7984.944000\n",
              "125     9580.877221\n",
              "130     9076.381443\n",
              "135    13392.143824\n",
              "140    15760.309322\n",
              "Name: 통행시간, dtype: float64"
            ]
          },
          "metadata": {
            "tags": []
          },
          "execution_count": 30
        }
      ]
    },
    {
      "cell_type": "code",
      "metadata": {
        "id": "vr7yupjG-s9d"
      },
      "source": [
        "groupby_destination = from_101_to['통행시간'].groupby(from_101_to['도착영업소코드'])"
      ],
      "execution_count": null,
      "outputs": []
    },
    {
      "cell_type": "code",
      "metadata": {
        "colab": {
          "base_uri": "https://localhost:8080/"
        },
        "id": "Zidf3_wd-tFU",
        "outputId": "428983ac-776a-4280-9f7c-8ef1809c421f"
      },
      "source": [
        "groupby_destination.size()"
      ],
      "execution_count": null,
      "outputs": [
        {
          "output_type": "execute_result",
          "data": {
            "text/plain": [
              "도착영업소코드\n",
              "105    4242\n",
              "110    3199\n",
              "115    2284\n",
              "120     500\n",
              "125     619\n",
              "130     582\n",
              "135     591\n",
              "140     708\n",
              "Name: 통행시간, dtype: int64"
            ]
          },
          "metadata": {
            "tags": []
          },
          "execution_count": 36
        }
      ]
    },
    {
      "cell_type": "code",
      "metadata": {
        "colab": {
          "base_uri": "https://localhost:8080/"
        },
        "id": "TefdKxuP-tGB",
        "outputId": "96b55cf0-8195-479d-c49d-1b8901ad6773"
      },
      "source": [
        "groupby_destination.mean()"
      ],
      "execution_count": null,
      "outputs": [
        {
          "output_type": "execute_result",
          "data": {
            "text/plain": [
              "도착영업소코드\n",
              "105      912.917020\n",
              "110     3694.332291\n",
              "115     5571.131349\n",
              "120     7984.944000\n",
              "125     9580.877221\n",
              "130     9076.381443\n",
              "135    13392.143824\n",
              "140    15760.309322\n",
              "Name: 통행시간, dtype: float64"
            ]
          },
          "metadata": {
            "tags": []
          },
          "execution_count": 37
        }
      ]
    },
    {
      "cell_type": "code",
      "metadata": {
        "colab": {
          "base_uri": "https://localhost:8080/"
        },
        "id": "Zon8QUy_-tG0",
        "outputId": "c61cde89-0de5-426d-e5fa-bc3fd02d8854"
      },
      "source": [
        "groupby_destination.max()"
      ],
      "execution_count": null,
      "outputs": [
        {
          "output_type": "execute_result",
          "data": {
            "text/plain": [
              "도착영업소코드\n",
              "105     2477\n",
              "110    12331\n",
              "115    13482\n",
              "120    13142\n",
              "125    23402\n",
              "130    20720\n",
              "135    30143\n",
              "140    26239\n",
              "Name: 통행시간, dtype: int64"
            ]
          },
          "metadata": {
            "tags": []
          },
          "execution_count": 38
        }
      ]
    },
    {
      "cell_type": "code",
      "metadata": {
        "id": "U7kZXwg8-tHz"
      },
      "source": [
        "output = 'drive/My Drive/data/output.csv'\n",
        "from_101_to.to_csv(output, index=None, header=True)"
      ],
      "execution_count": null,
      "outputs": []
    },
    {
      "cell_type": "code",
      "metadata": {
        "colab": {
          "base_uri": "https://localhost:8080/"
        },
        "id": "A175duy--tIk",
        "outputId": "8faad5bb-7755-49a7-8be0-8c4a94e6b8ab"
      },
      "source": [
        "!ls -al 'drive/My Drive/data'"
      ],
      "execution_count": null,
      "outputs": [
        {
          "output_type": "stream",
          "text": [
            "total 2263933\n",
            "-rw------- 1 root root    337176 Jun 25 03:40 output.csv\n",
            "-rw------- 1 root root 757939580 Feb 14 23:37 TCS_11_03_02_339640.csv\n",
            "-rw------- 1 root root 732586920 Mar 14 23:42 TCS_11_03_02_663167.csv\n",
            "-rw------- 1 root root 827403150 Apr 14 23:36 TCS_11_03_02_717062.csv\n"
          ],
          "name": "stdout"
        }
      ]
    },
    {
      "cell_type": "code",
      "metadata": {
        "id": "0qndZPX8-tJY"
      },
      "source": [
        ""
      ],
      "execution_count": null,
      "outputs": []
    },
    {
      "cell_type": "code",
      "metadata": {
        "id": "LoPrQfZb-tKS"
      },
      "source": [
        ""
      ],
      "execution_count": null,
      "outputs": []
    },
    {
      "cell_type": "code",
      "metadata": {
        "id": "3X1_HfmS-tK8"
      },
      "source": [
        ""
      ],
      "execution_count": null,
      "outputs": []
    },
    {
      "cell_type": "code",
      "metadata": {
        "id": "NVaXNPT3-tLo"
      },
      "source": [
        ""
      ],
      "execution_count": null,
      "outputs": []
    },
    {
      "cell_type": "code",
      "metadata": {
        "id": "7bJ4-VQt-tMU"
      },
      "source": [
        ""
      ],
      "execution_count": null,
      "outputs": []
    },
    {
      "cell_type": "code",
      "metadata": {
        "id": "a_P3K9FZ-tNJ"
      },
      "source": [
        ""
      ],
      "execution_count": null,
      "outputs": []
    },
    {
      "cell_type": "code",
      "metadata": {
        "id": "78jJJwiZ-tN6"
      },
      "source": [
        ""
      ],
      "execution_count": null,
      "outputs": []
    },
    {
      "cell_type": "code",
      "metadata": {
        "id": "eH_y-1IK-tOq"
      },
      "source": [
        ""
      ],
      "execution_count": null,
      "outputs": []
    },
    {
      "cell_type": "code",
      "metadata": {
        "id": "M2YM2I26-tPZ"
      },
      "source": [
        ""
      ],
      "execution_count": null,
      "outputs": []
    },
    {
      "cell_type": "code",
      "metadata": {
        "id": "4unj7HEA-tQQ"
      },
      "source": [
        ""
      ],
      "execution_count": null,
      "outputs": []
    },
    {
      "cell_type": "code",
      "metadata": {
        "id": "Wj9WGGap-tRE"
      },
      "source": [
        ""
      ],
      "execution_count": null,
      "outputs": []
    },
    {
      "cell_type": "code",
      "metadata": {
        "id": "yX9UoX3w-tR4"
      },
      "source": [
        ""
      ],
      "execution_count": null,
      "outputs": []
    },
    {
      "cell_type": "code",
      "metadata": {
        "id": "fRWP23RD-tSp"
      },
      "source": [
        ""
      ],
      "execution_count": null,
      "outputs": []
    },
    {
      "cell_type": "code",
      "metadata": {
        "id": "kEZIUZ_4-tTj"
      },
      "source": [
        ""
      ],
      "execution_count": null,
      "outputs": []
    },
    {
      "cell_type": "code",
      "metadata": {
        "id": "4ZKPWoG6-tUZ"
      },
      "source": [
        ""
      ],
      "execution_count": null,
      "outputs": []
    },
    {
      "cell_type": "code",
      "metadata": {
        "id": "USJTLoCf-tVD"
      },
      "source": [
        ""
      ],
      "execution_count": null,
      "outputs": []
    },
    {
      "cell_type": "code",
      "metadata": {
        "id": "e8CndhRq-tVt"
      },
      "source": [
        ""
      ],
      "execution_count": null,
      "outputs": []
    },
    {
      "cell_type": "code",
      "metadata": {
        "id": "9sNyuQAY-tWX"
      },
      "source": [
        ""
      ],
      "execution_count": null,
      "outputs": []
    },
    {
      "cell_type": "code",
      "metadata": {
        "id": "NOGEIbDa-tXD"
      },
      "source": [
        ""
      ],
      "execution_count": null,
      "outputs": []
    },
    {
      "cell_type": "code",
      "metadata": {
        "id": "bmvW6xi8-tXt"
      },
      "source": [
        ""
      ],
      "execution_count": null,
      "outputs": []
    },
    {
      "cell_type": "code",
      "metadata": {
        "id": "2_wPKpJt-tYf"
      },
      "source": [
        ""
      ],
      "execution_count": null,
      "outputs": []
    }
  ]
}